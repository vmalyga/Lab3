{
 "cells": [
  {
   "cell_type": "markdown",
   "metadata": {},
   "source": [
    "# Домашня робота №3\n",
    "Будемо використовувати *Збірник задач з теорії ймовірностей та математичної статистики: навч. посібник / В.В. Голомозий, М.В. Карташов, К.В. Ральченко. – К.: Видавничо-поліграфічний центр «Київський університет», 2015. – 366 с.*\n",
    "Електронну версію збірника можна знайти [тут](http://probability.univ.kiev.ua/userfiles/kmv/gkr-problems.pdf)."
   ]
  },
  {
   "cell_type": "markdown",
   "metadata": {},
   "source": [
    "## 1 Задача 1.3.12\n",
    "Знайти ймовiрнiсть того, що серед трьох цифр, кожна з яких вибрана навмання, буде лише 1, 2, 3 рiзних.\n",
    "\n",
    "Обчисліть теоретичну (повним перебором) та еміричну (симулюванням $100000$ експериментів) імовірності."
   ]
  },
  {
   "cell_type": "code",
   "execution_count": 2,
   "metadata": {},
   "outputs": [
    {
     "name": "stdout",
     "output_type": "stream",
     "text": [
      "Теоретична ймовірність, коли 1 - кількість різних, є 0.01\n",
      "Емпірична ймовірність, коли 1 - кількість різних, є 0.01046\n",
      "Теоретична ймовірність, коли 2 - кількість різних, є 0.27\n",
      "Емпірична ймовірність, коли 2 - кількість різних, є 0.27169\n",
      "Теоретична ймовірність, коли 3 - кількість різних, є 0.72\n",
      "Емпірична ймовірність, коли 3 - кількість різних, є 0.71825\n"
     ]
    }
   ],
   "source": [
    "from itertools import product\n",
    "import numpy as np\n",
    "numbers = range(10)\n",
    "\n",
    "def theor(p):\n",
    "    a = list(product(numbers, repeat=3))\n",
    "    b = []\n",
    "    for x in a:\n",
    "        if len(set(x))==p:\n",
    "            b.append(x)\n",
    "    return len(b)/10**3\n",
    "\n",
    "def emp(p):\n",
    "    a = []\n",
    "    b = []\n",
    "    for i in range(100000):\n",
    "        l = list(np.random.choice(numbers, size=3))\n",
    "        a.append(l)\n",
    "    for x in a:\n",
    "        if len(set(x))==p:\n",
    "            b.append(x)\n",
    "    return len(b)\n",
    "\n",
    "s = [1, 2, 3]\n",
    "for i in s:\n",
    "    print('Теоретична ймовірність, коли {} - кількість різних, є {}'.format(i, theor(i)))\n",
    "    res = emp(i)\n",
    "    print('Емпірична ймовірність, коли {} - кількість різних, є {}'.format(i, res/100000))    "
   ]
  },
  {
   "cell_type": "markdown",
   "metadata": {},
   "source": [
    "# 2 Задача 1.3.14\n",
    "З послiдовностi чисел $1, 2, . . . , n$ вибирають навмання $k$ рiзних чисел.\n",
    "Яка ймовiрнiсть того, що:\n",
    "1. кожне з вибраних чисел кратне даному числу $p$;\n",
    "2. кожне з вибраних чисел кратне хоча б одному з двох взаємно простих чисел $p$ i $q$;\n",
    "3. серед вибраних чисел є хоча б одне кратне $p$?\n",
    "\n",
    "Напишіть  відповідні функції для обрахунку теоретичної (повним перебором) та еміричної (симулюванням $100000$ експериментів) імовірностей в залежності від параметрів $n, k, p, q$.\n",
    "Виведіть результат для\n",
    "- $n = 25, k = 5, p = 3, q = 4$;\n",
    "- $n = 25, k = 10, p = 3, q = 4$."
   ]
  },
  {
   "cell_type": "code",
   "execution_count": 14,
   "metadata": {},
   "outputs": [
    {
     "name": "stdout",
     "output_type": "stream",
     "text": [
      "Кожне з вибраних чисел кратне даному числу p: 0.0013175230566534915; кожне з вибраних чисел кратне хоча б одному з двох взаємно простихчисел p і q: 0.018633540372670808; серед вибраних чисел є хоча б одне кратне p: 0.8972332015810277\n",
      "Кожне з вибраних чисел кратне даному числу p: 0.0; кожне з вибраних чисел кратне хоча б одному з двох взаємно простихчисел p і q: 3.3651904697805894e-05; серед вибраних чисел є хоча б одне кратне p: 0.9959169022299995\n",
      "Кожне з вибраних чисел кратне даному числу p: 0.0013175230566534915; кожне з вибраних чисел кратне хоча б одному з двох взаємно простихчисел p і q: 0.018633540372670808; серед вибраних чисел є хоча б одне кратне p: 0.8972332015810277\n",
      "Кожне з вибраних чисел кратне даному числу p: 0.0; кожне з вибраних чисел кратне хоча б одному з двох взаємно простихчисел p і q: 3.3651904697805894e-05; серед вибраних чисел є хоча б одне кратне p: 0.9959169022299995\n"
     ]
    }
   ],
   "source": [
    "from itertools import combinations\n",
    "\n",
    "def theor(n, k, p, q):\n",
    "    my_range = range(1, n)\n",
    "    choose_k = list(combinations(my_range, k))\n",
    "    n1, n2, n3 = 0, 0, 0\n",
    "    d = len(choose_k)\n",
    "    for i in choose_k:\n",
    "        Flag1 = True\n",
    "        Flag2 = True\n",
    "        Flag3 = False\n",
    "        for j in i:\n",
    "            if j%p == 0:\n",
    "                Flag3 = True\n",
    "            elif j%q == 0:\n",
    "                Flag1 = False\n",
    "            else:\n",
    "                Flag1 = False\n",
    "                Flag2 = False\n",
    "        n1 += Flag1\n",
    "        n2 += Flag2\n",
    "        n3 += Flag3\n",
    "    print('Кожне з вибраних чисел кратне даному числу p: {}; кожне з вибраних чисел кратне хоча б одному з двох взаємно простихчисел p і q: {}; серед вибраних чисел є хоча б одне кратне p: {}'.format(n1/d, n2/d, n3/d))\n",
    "theor(n=25, k=5, p=3, q=4)\n",
    "theor(n=25, k=10, p=3, q=4)\n",
    "    \n",
    "def emp(n, k, p, q):\n",
    "    my_range = range(1, n)\n",
    "    choose_k = []\n",
    "    for i in range(10000):\n",
    "        choose_k.append(list(np.random.choice(my_range, size=k, replace=False)))\n",
    "    n1, n2, n3 = 0, 0, 0\n",
    "    d = len(choose_k)\n",
    "    for i in choose_k:\n",
    "        Flag1 = True\n",
    "        Flag2 = True\n",
    "        Flag3 = False\n",
    "        for j in i:\n",
    "            if j%p == 0:\n",
    "                Flag3 = True\n",
    "            elif j%q == 0:\n",
    "                Flag1 = False\n",
    "            else:\n",
    "                Flag1 = False\n",
    "                Flag2 = False\n",
    "        n1 += Flag1\n",
    "        n2 += Flag2\n",
    "        n3 += Flag3\n",
    "    print('Кожне з вибраних чисел кратне даному числу p: {}; кожне з вибраних чисел кратне хоча б одному з двох взаємно простихчисел p і q: {}; серед вибраних чисел є хоча б одне кратне p: {}'.format(n1/d, n2/d, n3/d))\n",
    "theor(n=25, k=5, p=3, q=4)\n",
    "theor(n=25, k=10, p=3, q=4)   "
   ]
  },
  {
   "cell_type": "markdown",
   "metadata": {},
   "source": [
    "# 3 Задача 1.4.6\n",
    "В коморi знаходяться $n$ пар черевикiв.\n",
    "З них випадковим чином вибираються $2k$ черевикiв.\n",
    "Яка ймовiрнiсть того, що серед вибраних черевикiв:\n",
    "1. вiдсутнi парнi;\n",
    "2. є рiвно одна комплектна пара;\n",
    "3. є двi комплектнi пари?\n",
    "\n",
    "Напишіть  відповідні функції для обрахунку теоретичної (повним перебором) та еміричної (симулюванням $100000$ експериментів) імовірностей в залежності від параметрів $n, k$.\n",
    "Виведіть результат для\n",
    "- $n = 8, k = 4$;\n",
    "- $n = 13, k = 5$."
   ]
  },
  {
   "cell_type": "code",
   "execution_count": 22,
   "metadata": {},
   "outputs": [
    {
     "name": "stdout",
     "output_type": "stream",
     "text": [
      "Відсутні парні: 0.01989121989121989; є рівно одна комплектна пара: 0.2784770784770785; є дві комплектні пари: 0.7016317016317016\n"
     ]
    }
   ],
   "source": [
    "def theor(n, k):\n",
    "    ch = []\n",
    "    for i in range(n):\n",
    "        ch.append(('R', i))\n",
    "        ch.append(('L', i))\n",
    "    choose_k = list(combinations(ch, 2*k))\n",
    "    n1 = 0\n",
    "    n2 = 0\n",
    "    n3 = 0\n",
    "    for i in choose_k:\n",
    "        my_set = set()\n",
    "        for j in i:\n",
    "            my_set = my_set|{j[1]}\n",
    "        if len(my_set)==2*k:\n",
    "            n1 += 1\n",
    "        elif len(my_set)==2*k-1:\n",
    "            n2 += 1\n",
    "        else:\n",
    "            n3 += 1\n",
    "    d = len(choose_k)\n",
    "    print('Відсутні парні: {}; є рівно одна комплектна пара: {}; є дві комплектні пари: {}'.format(n1/d, n2/d, n3/d))\n",
    "\n",
    "theor(n=8, k=4)"
   ]
  },
  {
   "cell_type": "code",
   "execution_count": 21,
   "metadata": {},
   "outputs": [
    {
     "name": "stdout",
     "output_type": "stream",
     "text": [
      "Відсутні парні: 0.05513528065688518; є рівно одна комплектна пара: 0.31013595369497915; є дві комплектні пари: 0.6347287656481357\n"
     ]
    }
   ],
   "source": [
    "def theor(n, k):\n",
    "    ch = []\n",
    "    for i in range(n):\n",
    "        ch.append(('R', i))\n",
    "        ch.append(('L', i))\n",
    "    choose_k = list(combinations(ch, 2*k))\n",
    "    n1 = 0\n",
    "    n2 = 0\n",
    "    n3 = 0\n",
    "    for i in choose_k:\n",
    "        my_set = set()\n",
    "        for j in i:\n",
    "            my_set = my_set|{j[1]}\n",
    "        if len(my_set)==2*k:\n",
    "            n1 += 1\n",
    "        elif len(my_set)==2*k-1:\n",
    "            n2 += 1\n",
    "        else:\n",
    "            n3 += 1\n",
    "    d = len(choose_k)\n",
    "    print('Відсутні парні: {}; є рівно одна комплектна пара: {}; є дві комплектні пари: {}'.format(n1/d, n2/d, n3/d))\n",
    "\n",
    "theor(n=13, k=5)"
   ]
  },
  {
   "cell_type": "code",
   "execution_count": 23,
   "metadata": {},
   "outputs": [
    {
     "name": "stdout",
     "output_type": "stream",
     "text": [
      "Відсутні парні: 0.01989121989121989; є рівно одна комплектна пара: 0.2784770784770785; є дві комплектні пари: 0.7016317016317016\n"
     ]
    }
   ],
   "source": [
    "def emp(n, k):\n",
    "    ch = []\n",
    "    for i in range(n):\n",
    "        ch.append(('R{}'.format(i)))\n",
    "        ch.append(('L{}'.format(i)))\n",
    "    choose_k = []\n",
    "    for i in range(10000):\n",
    "        choose_k.append(list(np.random.choice(ch, size=k2, replace=False)))\n",
    "    n1 = 0\n",
    "    n2 = 0\n",
    "    n3 = 0\n",
    "    for i in choose_k:\n",
    "        my_set = set()\n",
    "        for j in i:\n",
    "            my_set = my_set|{j[1]}\n",
    "        if len(my_set)==2*k:\n",
    "            n1 += 1\n",
    "        elif len(my_set)==2*k-1:\n",
    "            n2 += 1\n",
    "        else:\n",
    "            n3 += 1\n",
    "    d = len(choose_k)\n",
    "    print('Відсутні парні: {}; є рівно одна комплектна пара: {}; є дві комплектні пари: {}'.format(n1/d, n2/d, n3/d))\n",
    "theor(n=8, k=4)"
   ]
  },
  {
   "cell_type": "code",
   "execution_count": 24,
   "metadata": {},
   "outputs": [
    {
     "name": "stdout",
     "output_type": "stream",
     "text": [
      "Відсутні парні: 0.05513528065688518; є рівно одна комплектна пара: 0.31013595369497915; є дві комплектні пари: 0.6347287656481357\n"
     ]
    }
   ],
   "source": [
    "def emp(n, k):\n",
    "    ch = []\n",
    "    for i in range(n):\n",
    "        ch.append(('R{}'.format(i)))\n",
    "        ch.append(('L{}'.format(i)))\n",
    "    choose_k = []\n",
    "    for i in range(10000):\n",
    "        choose_k.append(list(np.random.choice(ch, size=k2, replace=False)))\n",
    "    n1 = 0\n",
    "    n2 = 0\n",
    "    n3 = 0\n",
    "    for i in choose_k:\n",
    "        my_set = set()\n",
    "        for j in i:\n",
    "            my_set = my_set|{j[1]}\n",
    "        if len(my_set)==2*k:\n",
    "            n1 += 1\n",
    "        elif len(my_set)==2*k-1:\n",
    "            n2 += 1\n",
    "        else:\n",
    "            n3 += 1\n",
    "    d = len(choose_k)\n",
    "    print('Відсутні парні: {}; є рівно одна комплектна пара: {}; є дві комплектні пари: {}'.format(n1/d, n2/d, n3/d))\n",
    "theor(n=13, k=5)"
   ]
  },
  {
   "cell_type": "markdown",
   "metadata": {},
   "source": [
    "# 4 Задача 1.2.15\n",
    "Нехай $\\Omega = {1, 2, \\ldots, 2n}$.\n",
    "Всiм числам приписанi ймовiрностi, пропорцiйнi логарифмам цих чисел.\n",
    "Знайти цi ймовiрностi.\n",
    "Знайти ймовiрнiсть того, що в результатi експерименту з’явиться:\n",
    "1. парне число;\n",
    "2. непарне число.\n",
    "\n",
    "Напишіть функцію для обрахунку еміричної (симулюванням $100000$ експериментів) імовірності в залежності від параметра $n$.\n",
    "Виведіть результат для\n",
    "- $n = 10$;\n",
    "- $n = 25$."
   ]
  },
  {
   "cell_type": "code",
   "execution_count": null,
   "metadata": {},
   "outputs": [],
   "source": [
    "import numpy as np\n",
    "import math\n",
    "\n",
    "def emp(n):\n",
    "    s=0 \n",
    "    for i in range(1, n+1):\n",
    "        s+=(math.log(i))\n",
    "    k=1/s\n",
    "    l=[]\n",
    "    for i in range(1, n+1):\n",
    "        l.append(k*math.log(i))\n",
    "    print(l)\n",
    "    n1=0\n",
    "    n2=0\n",
    "    d=10000\n",
    "    for i in range(d):\n",
    "        a=np.random.choice(range(1, n+1), size=1, replace=False, p=1)\n",
    "        if a%2==0:\n",
    "            n1+=1\n",
    "        else:\n",
    "            n2+=1\n",
    "        print('парне: {}; непарне: {};'.format(n1/d, n2/d))\n",
    "\n",
    "emp(10)\n",
    "emp(25) "
   ]
  }
 ],
 "metadata": {
  "kernelspec": {
   "display_name": "Python 3",
   "language": "python",
   "name": "python3"
  },
  "language_info": {
   "codemirror_mode": {
    "name": "ipython",
    "version": 3
   },
   "file_extension": ".py",
   "mimetype": "text/x-python",
   "name": "python",
   "nbconvert_exporter": "python",
   "pygments_lexer": "ipython3",
   "version": "3.7.1"
  }
 },
 "nbformat": 4,
 "nbformat_minor": 1
}
